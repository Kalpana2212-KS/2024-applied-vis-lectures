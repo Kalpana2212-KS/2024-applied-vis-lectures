{
 "cells": [
  {
   "cell_type": "code",
   "execution_count": 1,
   "metadata": {
    "trrack_graph": "ᯡ࠽䈌ʀ匦㢠⹰ãƸā╰ᣠⵚŘȸɐါ༠䴈೪Čߪ庍ᛆጺᢲ䀤奢Ω䖧ἱᥪᬕ౹墒皃柦`ന;Ը嶂´၀Ø䄉䀦熦঑щ䗋႘L䎕•㯺‣㐡㩚嵻↲ԧ➯畇ᣡ‡犀␠⌠ම䶫⛨ˑ⣳ᢉᴠⶬ᳴䡂Ճɢ⯬䈰哤࡮岬怭㕍ጚ㪣䄠弽⾃‬橧䝐⋖䉠瀭Ƅ࡙䀳怠牿㢘愑ḋࡁλ䛴䒌夳ࣃ৩䓬ഔᔡ༳ধ仆ጱῩ攗≲ᣪӣ壤ḧϩ岋⛬▨愑°㑧ـ⾬撓䐸㘷р䠴㔮䂁ᣌĽ䔃㣜㼭揠Î彟䲒㡄Ⲕ䮫䠩䕑ᩭ⧴䪀搠 "
   },
   "outputs": [],
   "source": [
    "from vega_datasets import data\n",
    "import altair as alt"
   ]
  },
  {
   "cell_type": "markdown",
   "metadata": {},
   "source": [
    "### Excercise: Visualizing Gapminder Dataset\n",
    "\n",
    "We will load `gapminder` dataset from `vega_datasets` and try to create different visualizations"
   ]
  },
  {
   "cell_type": "code",
   "execution_count": 2,
   "metadata": {
    "trrack_graph": "ᯡ࠽䈌ʀ匦㢠⹰۠ܡؤ〵䏉倶䎠ء汊ࠥ䀳ӋФムㆣƸʒ㥆䵘Ƹ榲䃤䨠ዪन㪌㰥䗪⫷劊懻域Ⴑㄠ㑀ᤸ愹䠤傡%戰映ᮬᢛ䑁圌Ს〡ゲᥠ½⹨N僨洎㉡ሸ奢ᣖᡈ\\䰩֢䔃⌓犐呸乌↠ᛦஆᙡ䅀㗖न㚂੐棣〦塴ㆢ㴱䢠⿁䂅偊旐ₗ≠热ᢑࡍ䀳怠癸簘恸㴻ࠩᮯ䧣Ƈ⪱䢲㤹ᰴ瘦଺ധ൭悄㉐⤩永Ģᆥ⊐ⰲң䄙歍䙬䣡⦅䒈䖬₀䛮狩᡼ἤ⊰㽵ᐁ匜婞ၬከ㸶*瘪䉇ޮ⋦ᓘ䪮䁅塤伤䷳䥃ဠ "
   },
   "outputs": [
    {
     "data": {
      "text/html": [
       "<div>\n",
       "<style scoped>\n",
       "    .dataframe tbody tr th:only-of-type {\n",
       "        vertical-align: middle;\n",
       "    }\n",
       "\n",
       "    .dataframe tbody tr th {\n",
       "        vertical-align: top;\n",
       "    }\n",
       "\n",
       "    .dataframe thead th {\n",
       "        text-align: right;\n",
       "    }\n",
       "</style>\n",
       "<table border=\"1\" class=\"dataframe\">\n",
       "  <thead>\n",
       "    <tr style=\"text-align: right;\">\n",
       "      <th></th>\n",
       "      <th>year</th>\n",
       "      <th>country</th>\n",
       "      <th>cluster</th>\n",
       "      <th>pop</th>\n",
       "      <th>life_expect</th>\n",
       "      <th>fertility</th>\n",
       "    </tr>\n",
       "  </thead>\n",
       "  <tbody>\n",
       "    <tr>\n",
       "      <th>0</th>\n",
       "      <td>1955</td>\n",
       "      <td>Afghanistan</td>\n",
       "      <td>0</td>\n",
       "      <td>8891209</td>\n",
       "      <td>30.332</td>\n",
       "      <td>7.7000</td>\n",
       "    </tr>\n",
       "    <tr>\n",
       "      <th>1</th>\n",
       "      <td>1960</td>\n",
       "      <td>Afghanistan</td>\n",
       "      <td>0</td>\n",
       "      <td>9829450</td>\n",
       "      <td>31.997</td>\n",
       "      <td>7.7000</td>\n",
       "    </tr>\n",
       "    <tr>\n",
       "      <th>2</th>\n",
       "      <td>1965</td>\n",
       "      <td>Afghanistan</td>\n",
       "      <td>0</td>\n",
       "      <td>10997885</td>\n",
       "      <td>34.020</td>\n",
       "      <td>7.7000</td>\n",
       "    </tr>\n",
       "    <tr>\n",
       "      <th>3</th>\n",
       "      <td>1970</td>\n",
       "      <td>Afghanistan</td>\n",
       "      <td>0</td>\n",
       "      <td>12430623</td>\n",
       "      <td>36.088</td>\n",
       "      <td>7.7000</td>\n",
       "    </tr>\n",
       "    <tr>\n",
       "      <th>4</th>\n",
       "      <td>1975</td>\n",
       "      <td>Afghanistan</td>\n",
       "      <td>0</td>\n",
       "      <td>14132019</td>\n",
       "      <td>38.438</td>\n",
       "      <td>7.7000</td>\n",
       "    </tr>\n",
       "    <tr>\n",
       "      <th>...</th>\n",
       "      <td>...</td>\n",
       "      <td>...</td>\n",
       "      <td>...</td>\n",
       "      <td>...</td>\n",
       "      <td>...</td>\n",
       "      <td>...</td>\n",
       "    </tr>\n",
       "    <tr>\n",
       "      <th>688</th>\n",
       "      <td>1985</td>\n",
       "      <td>Venezuela</td>\n",
       "      <td>3</td>\n",
       "      <td>16997509</td>\n",
       "      <td>70.190</td>\n",
       "      <td>3.6485</td>\n",
       "    </tr>\n",
       "    <tr>\n",
       "      <th>689</th>\n",
       "      <td>1990</td>\n",
       "      <td>Venezuela</td>\n",
       "      <td>3</td>\n",
       "      <td>19325222</td>\n",
       "      <td>71.150</td>\n",
       "      <td>3.2500</td>\n",
       "    </tr>\n",
       "    <tr>\n",
       "      <th>690</th>\n",
       "      <td>1995</td>\n",
       "      <td>Venezuela</td>\n",
       "      <td>3</td>\n",
       "      <td>21555902</td>\n",
       "      <td>72.146</td>\n",
       "      <td>2.9415</td>\n",
       "    </tr>\n",
       "    <tr>\n",
       "      <th>691</th>\n",
       "      <td>2000</td>\n",
       "      <td>Venezuela</td>\n",
       "      <td>3</td>\n",
       "      <td>23542649</td>\n",
       "      <td>72.766</td>\n",
       "      <td>2.7230</td>\n",
       "    </tr>\n",
       "    <tr>\n",
       "      <th>692</th>\n",
       "      <td>2005</td>\n",
       "      <td>Venezuela</td>\n",
       "      <td>3</td>\n",
       "      <td>25375281</td>\n",
       "      <td>73.747</td>\n",
       "      <td>2.5470</td>\n",
       "    </tr>\n",
       "  </tbody>\n",
       "</table>\n",
       "<p>693 rows × 6 columns</p>\n",
       "</div>"
      ],
      "text/plain": [
       "     year      country  cluster       pop  life_expect  fertility\n",
       "0    1955  Afghanistan        0   8891209       30.332     7.7000\n",
       "1    1960  Afghanistan        0   9829450       31.997     7.7000\n",
       "2    1965  Afghanistan        0  10997885       34.020     7.7000\n",
       "3    1970  Afghanistan        0  12430623       36.088     7.7000\n",
       "4    1975  Afghanistan        0  14132019       38.438     7.7000\n",
       "..    ...          ...      ...       ...          ...        ...\n",
       "688  1985    Venezuela        3  16997509       70.190     3.6485\n",
       "689  1990    Venezuela        3  19325222       71.150     3.2500\n",
       "690  1995    Venezuela        3  21555902       72.146     2.9415\n",
       "691  2000    Venezuela        3  23542649       72.766     2.7230\n",
       "692  2005    Venezuela        3  25375281       73.747     2.5470\n",
       "\n",
       "[693 rows x 6 columns]"
      ]
     },
     "execution_count": 2,
     "metadata": {},
     "output_type": "execute_result"
    }
   ],
   "source": [
    "gapminder = data.gapminder()\n",
    "gapminder"
   ]
  },
  {
   "cell_type": "markdown",
   "metadata": {},
   "source": [
    "#### Task 1: Create a line chart of average population across years faceted by the continents\n",
    "\n",
    "_Note: We will assume `cluster` represents the `continent`_\n",
    "\n",
    "Use Vega-Altair to create the aggregates and faceting"
   ]
  },
  {
   "cell_type": "code",
   "execution_count": null,
   "metadata": {
    "trrack_graph": "ᯡ࠽䈌ʀ匦㢠⹰ڀବ〻Ԧᠹ䁍vᔙ㑃<⤨৫䂖¦䐐ࣧ∖⠠抪૓ተ¶⡨⇲㄀ᅆⅺ嚣ୖ仼簥Ҡǁ#㚀҃࿒′䈤7⺰ᠠ湐憎Ⴄ姗㮠˴㽴3姩-倥樋甽♨幝⸰㦺挥'䦡ᇸ墔⩾3ݘ䚩柣栢沁团搰㌸ሪ嶊Ⴀ晃䌔䙶ᦓK娶ࠥ稉窺⣬岋Ȼ≄ܨ榡ࢣⰡḠ݅宯䘷׾墥ࣙ氽䲆ᬑⓏຨ杨拧懂ঐ呴扪ᜳ棨澖暁∨䙔ƫ挑䑛ඉ婨सॄ夬ࢱ䐠ॹ⹉̭䈀䑲Ჩ⃠㒚প悐屼ޯ戩䊘䀪瀩˧ᮺⓥ摘抿๱ঊ⥜䫳ѣဠ "
   },
   "outputs": [],
   "source": []
  },
  {
   "cell_type": "markdown",
   "metadata": {
    "trrack_graph": "ᯡ࠽䈌ʀ匦㢠⹰ૢ䰠性ìⵠ⴬ᣀ໠‶æĬĸ࠳䀳ᓢɐ楮五『䀻ᶲ⠠䭈⑀楒琂ᅎ⵾䧋ݎẜΤ䀡傠Ǘ冠㕀ॢȠா䠸ᢀ㜰䁾巕•晀樠Ꮃ䤠ව׷核ᱬ䠸絊⁭૤䀯ጢ⏒Ը堸ᰬ㭓ֿ俀ב䅸楤⁔と㥵䱢ڸ䌯槲Ⱑ囥᪟㭨㑀ఏ圏吡䲈呶҆硨ฮ匩⫐ʘ<௎漸ᕛ▂ٌ痗売䶰′⤬⌽ᆴ䡃䃀ᅱバ⢴䙦Ͻຶ灣䇁ൠ塞ᆥ₀ᠴ᛬姌劘䘨䡍絤もЙᘷᩮ䎀硢ᢦ≱㐦֦怱᲎ឯ恰䈱เ˛粡ǵ憱㈒⹉⁆哤楓⃅⥀㽨  "
   },
   "source": [
    "Instead of faceting the above chart, it might be better to visualize them as a single line chart with each line representing a `cluster`"
   ]
  },
  {
   "cell_type": "code",
   "execution_count": null,
   "metadata": {
    "trrack_graph": "ᯡ࠽䈌ʀ匦㢠⹰恆X偃fᠳ䁍ᴲ̺ࠥ䀹啂㤀ᖪ℡堤ᣟ䨡䱵⪳ز⠠䭈⑀楒瀶ፉ⍮凓㭮ẜ΀䀡傠Ǔ㏧兀ॢȠம撠㜸ぷࡡ乾嵀Ƃ៊3廲V䀷⯇冣嬺ဠ೚剟ᬥ䘪/ጢↂ㧰凼⣌㜶ଵ̲%壠⳹䉀㙐␥⋤Ω䱦܈燬öዖྦྷえါ痱瑕⣹␶ж䡨฾呌䄠堢㰠หု౉ϕㄢ႖壹奃⌂❈縮ἠ໢最刲䡨಴粜␝༐䷦标℀ᒜᒥ।ಋ֎塨焸ńာࣁ䐣玹๩̭䈀䐲ᴮ⍱㑢Ấ拐ᱎឯ禉ㄠᗧ搒๮ᒳධ熘抰买䦊㥓➥  "
   },
   "outputs": [],
   "source": []
  },
  {
   "cell_type": "markdown",
   "metadata": {},
   "source": [
    "#### Task 2: Create a scatterplot matrix for the year 2005.\n",
    "\n",
    "We want to filter the dataset to keep the data for year 2005. Next we want to create a scatterplot matrix using the `pop`, `life_expect`, and `fertility` attributes. Use name of the country as the tooltip.\n",
    "\n",
    "_Hint:_ Try to use Vega-Altair transforms to filter the data. Refer to the lecture notebook for SPLOM code"
   ]
  },
  {
   "cell_type": "code",
   "execution_count": null,
   "metadata": {
    "trrack_graph": "ᯡ࠽䈌ʀ匦㢠⹰ૠㆺё₆㐱䁍ἼŐڄါ&ය೭⤢㤩敠⍈⃠ᶪ圲⠠䭈⑁棒瀶ፉ⭾凓ᬮ溝Τ炠ǁ#㓩挰橠ኤРឝၐüメ湁˛㾍%䲁吠৥撠۰̈ബ了␺ƺᡓ΃ʠϩ䂱砠㘶༭ᖧ䊥⟡ダడ㙐᭬⢨ጬण⧓ࡢ㌰ᄦ事U䋓࠳欯Т簬͍᱆ජϒሧډ䇴氡Ḡޅ篏䘭Ͼ墣૛洽ᤆ搰Ҵ䚥䧢怶枱⤨桜⌊ଫᨓ䧠籇ኀ㡾Ꭵ⃐桚ԯ㇍ᭉᅃͅ䬱䤶ᢡƋ෭ႁ塜ࢢⁱ呚Ƥ拑汎ឯ懀䈱ŀ˚ˡㇽ憳㈒ṉ⑆呄䚼仰䑃ဠ "
   },
   "outputs": [],
   "source": []
  },
  {
   "cell_type": "markdown",
   "metadata": {},
   "source": [
    "#### Task 3: Can you try to make a scatterplot matrix using `hconcat` and `vconcat` operators?"
   ]
  },
  {
   "cell_type": "code",
   "execution_count": null,
   "metadata": {
    "trrack_graph": "ᯡ࠽䈌ʀ匦㢠⹰ৠ↠昢〸恃¬Ÿ˰Ɓ♠暒Q䧤娣妋扦Ḑ۠έ皆㑩•ⳁႧ⛯䱼劭ᦚ䙌汙㨃瀵䑄-РයḸ䎲´၀Û璡䀦熦ޑе減ᰠᛃۀnᝄV䀷₈㊓᥂栬㣡㐻ఴ>☤䁆烃磑㥤㈢ਪàஃǖୀ䃰悰⪻⢤ፑİ㏦堣⳪梡⻐硠០柴棣℀氰涱ၘ⍬Ѥ΀ԐY៽㹐ᱎ竤ᑵ澈獧᣷䕅㑈㰴㍗બ䉣䘅犰⥈⒘㲛䤵ጪ؁瀴ึ䗁ख᫳㒲ቐ㉩㈺ᅃ࠰ᛑ屲☷у帪ᴡ䊂夌✧䠁炢ァဢ崢惑漆䣑㤥ൣ扴䊚䉮榔↰  "
   },
   "outputs": [],
   "source": []
  },
  {
   "cell_type": "markdown",
   "metadata": {
    "trrack_graph": "ᯡ࠽䈌ʀ匦㢠⹰۠ܡآ〳䎠ᢀୠᖠ㬦¬䐢柭㖈͑⾱ᠤヤ捒姅9䁉ᐠ▴ሰ瓸礪䡶叀摹嗛᜾㸣䍄ð䀡奱䑕ဩ™+䐡䰠㜸プࡢ⳻夠ಀƆᢅ\"㭙အ娠崣⇃哩ྠ㜑҃Ⲁ倠祐ሧԧگ䐷惀䣱粄̠ⶬ᫣ੂãɠ毌戰ⳤ②努怭ト愤篢ᄠ弣ë➻涀䄊䒡憺ゕ欠➠ǹ㜇熦礗噀扎⼧ع夤Ņ១扰烨⢢ᩂ㞺ത䭧䚜剰ẩȸጪ桘㞿ߠ䡾᫳㊱ቐ੹ㄻᆃࠨዒ峲☷Cऄᔶ䟂ᡌᬳ䜂礜Ⴄ⑨Î₨ⲓ㢄Ნ侪⢩唩ᇇᏔ⪄䉒  "
   },
   "source": [
    "## What is '*' operator?\n",
    "\n",
    "__'*'__ is usually means multiplication in python. e.g `2*3` should return `6`\n",
    "\n",
    "`*` has to be used with two values to be used as a multiplication operator.\n",
    "\n",
    "When we manually created __`SPLOM`__ we used `*` as prefix for our arrays `h_concat` and `v_concat`.\n",
    "\n",
    "When `*` is used as a prefix to a list (`*h_concat`), it functions as the Python __unpacking operator__.\n",
    "\n",
    "Unpacking operator spread the list into multiple values of individual items instead of a single list.\n",
    "\n",
    "For e.g in our above code if we directly used `h_concat` without `*`\n",
    "\n",
    "```python\n",
    "row_chart = alt.hconcat(h_concat)\n",
    "```\n",
    "\n",
    "The above code throws an syntax error, because `alt.hconcat` expects multiple charts and not a list of charts. The above code is equivalent to\n",
    "\n",
    "```python\n",
    "row_chart = alt.hconcat([chart_1, chart_2, chart_3, ...])\n",
    "```\n",
    "\n",
    "Notice that we passed a list to `alt.hconcat`. To remedy this we can do\n",
    "\n",
    "```python\n",
    "row_chart = alt.hconat(h_concat[0], h_concat[1], h_concat[3], ...so on)\n",
    "```\n",
    "\n",
    "We can only do this when we know the size of our list. If we use the `*` operator\n",
    "\n",
    "```python\n",
    "row_chart = alt.hconcat(*h_concat)\n",
    "```\n",
    "\n",
    "is equivalent to\n",
    "\n",
    "```python\n",
    "row_chart = alt.hconcat(h_concat[0], h_concat[1], h_concat[3], ...so on)\n",
    "```\n",
    "\n",
    "It automatically spreads a single list into multiple values, without having to know the size beforehand\n",
    "\n",
    "Read [here](https://www.pythonforbeginners.com/basics/unpacking-in-python) for detailed explaination"
   ]
  },
  {
   "cell_type": "code",
   "execution_count": null,
   "metadata": {
    "trrack_graph": "ᯡ࠽䈌ʀ匦㢠⹰ࢅř榡䙐චⴠ♜倬恀ଠ٪䐲䁃಴ࠬ晬≰໩⁦㙂璴䥠ɹ⅁ͩ䎿ᣉԺ㨭䵸㦕瀴ቄ-Рඳృ椠䨰ဠ尬䃠Α䌧㢤଍縌6煦倠✷ሠ᭠ை㉒㦹ᇉ۸悴ඬਠཆɧ爃倠᳴㊞ཕ᝟䉨〥壠汰扒と൭屢স䂬ᩓⰡ嘵ᑠ睸㱀ఈ㠎㗐凐㘨盨䠼৆ݳ〤砠ᶷ滞᲎竤ᱵ澈照ᭀ䅅勴瑦㨯༬䫭䗭搢壉ᣌ䙦㷡ಥۢ䆒䙅຦懈橋澃ⵖ楂⌦▶懒ᩑĢ欻䍀惐屁ɧ჈婝઀楘渿ࡆ।Ҡଈତ䞗ᙣ䑉礅ࢶ僑汒㭩☉䍀  "
   },
   "outputs": [],
   "source": []
  }
 ],
 "metadata": {
  "__persist_nb_uuid__": "c1237aa4-0e82-416a-8601-85944625ef78",
  "kernelspec": {
   "display_name": "base",
   "language": "python",
   "name": "python3"
  },
  "language_info": {
   "codemirror_mode": {
    "name": "ipython",
    "version": 3
   },
   "file_extension": ".py",
   "mimetype": "text/x-python",
   "name": "python",
   "nbconvert_exporter": "python",
   "pygments_lexer": "ipython3",
   "version": "3.12.2"
  }
 },
 "nbformat": 4,
 "nbformat_minor": 4
}
